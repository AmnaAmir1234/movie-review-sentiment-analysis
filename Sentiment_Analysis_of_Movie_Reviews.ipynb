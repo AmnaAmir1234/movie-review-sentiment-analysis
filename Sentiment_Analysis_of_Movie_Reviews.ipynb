{
  "cells": [
    {
      "cell_type": "markdown",
      "source": [
        "# **IMPORT LIBRARIES**"
      ],
      "metadata": {
        "id": "0FWB7ScHv8f9"
      }
    },
    {
      "cell_type": "code",
      "source": [
        "import pandas as pd\n",
        "import numpy as np\n",
        "import matplotlib.pyplot as plt\n",
        "import seaborn as sns\n",
        "from sklearn.model_selection import train_test_split\n",
        "from sklearn.feature_extraction.text import TfidfVectorizer\n",
        "from sklearn.linear_model import LogisticRegression\n",
        "from sklearn.naive_bayes import MultinomialNB\n",
        "from sklearn.svm import LinearSVC\n",
        "from sklearn.metrics import accuracy_score, f1_score, classification_report, confusion_matrix\n",
        "import nltk\n",
        "from nltk.corpus import stopwords\n",
        "import re\n",
        "import warnings\n"
      ],
      "metadata": {
        "id": "ovAyvOc1uhZS"
      },
      "execution_count": 13,
      "outputs": []
    },
    {
      "cell_type": "markdown",
      "source": [
        "# **SETUP**"
      ],
      "metadata": {
        "id": "YkgqI9knwUJg"
      }
    },
    {
      "cell_type": "code",
      "source": [
        "warnings.filterwarnings('ignore')\n",
        "\n",
        "# Download NLTK stopwords if not available\n",
        "try:\n",
        "    nltk.data.find('corpora/stopwords')\n",
        "except LookupError:\n",
        "    nltk.download('stopwords')\n"
      ],
      "metadata": {
        "id": "TfdyNzIluhbq"
      },
      "execution_count": 14,
      "outputs": []
    },
    {
      "cell_type": "markdown",
      "source": [
        "# **LOAD DATASET**"
      ],
      "metadata": {
        "id": "kR4nJSK3wu3o"
      }
    },
    {
      "cell_type": "code",
      "source": [
        "print(\"Loading IMDB dataset...\")\n",
        "df = pd.read_csv(\"IMDB_Dataset.csv\")  # Update path if needed\n",
        "print(f\"Dataset shape: {df.shape}\")\n",
        "print(\"\\nFirst few rows:\")\n",
        "print(df.head())\n",
        "print(\"\\nSentiment distribution:\")\n",
        "print(df['sentiment'].value_counts())\n",
        "\n"
      ],
      "metadata": {
        "colab": {
          "base_uri": "https://localhost:8080/"
        },
        "id": "hii1uDsAuhdv",
        "outputId": "cb8ea833-e23d-4846-80b3-03af7f457aed"
      },
      "execution_count": 15,
      "outputs": [
        {
          "output_type": "stream",
          "name": "stdout",
          "text": [
            "Loading IMDB dataset...\n",
            "Dataset shape: (50000, 2)\n",
            "\n",
            "First few rows:\n",
            "                                              review sentiment\n",
            "0  One of the other reviewers has mentioned that ...  positive\n",
            "1  A wonderful little production. <br /><br />The...  positive\n",
            "2  I thought this was a wonderful way to spend ti...  positive\n",
            "3  Basically there's a family where a little boy ...  negative\n",
            "4  Petter Mattei's \"Love in the Time of Money\" is...  positive\n",
            "\n",
            "Sentiment distribution:\n",
            "sentiment\n",
            "positive    25000\n",
            "negative    25000\n",
            "Name: count, dtype: int64\n"
          ]
        }
      ]
    },
    {
      "cell_type": "markdown",
      "source": [
        "# **TEXT PREPROCESSING**"
      ],
      "metadata": {
        "id": "Fk3PVW_uw1Om"
      }
    },
    {
      "cell_type": "code",
      "source": [
        "stop_words = set(stopwords.words('english'))\n",
        "\n",
        "def clean_text(text):\n",
        "    \"\"\"\n",
        "    Text cleaning pipeline:\n",
        "    - Lowercasing\n",
        "    - Removing HTML, URLs, special chars\n",
        "    - Removing stopwords & short words\n",
        "    \"\"\"\n",
        "    if pd.isna(text):\n",
        "        return \"\"\n",
        "\n",
        "    text = text.lower()\n",
        "    text = re.sub(r\"<.*?>\", \" \", text)  # HTML tags\n",
        "    text = re.sub(r'http\\S+|www\\S+|https\\S+', '', text)  # URLs\n",
        "    text = re.sub(r\"[^a-zA-Z\\s]\", \" \", text)  # Keep only letters\n",
        "    text = re.sub(r'\\s+', ' ', text).strip()  # Extra spaces\n",
        "\n",
        "    words = [word for word in text.split() if word not in stop_words and len(word) > 2]\n",
        "    return ' '.join(words)\n",
        "\n",
        "print(\"\\nCleaning text data...\")\n",
        "df['clean_review'] = df['review'].apply(clean_text)\n",
        "\n",
        "# Remove empty cleaned reviews\n",
        "empty_reviews = df['clean_review'].str.len() == 0\n",
        "if empty_reviews.sum() > 0:\n",
        "    print(f\"Found {empty_reviews.sum()} empty reviews. Removing them...\")\n",
        "    df = df[~empty_reviews].reset_index(drop=True)\n"
      ],
      "metadata": {
        "colab": {
          "base_uri": "https://localhost:8080/"
        },
        "id": "nLXmhvMDuhgp",
        "outputId": "dd764c78-28c9-468e-e617-3c9c389ba21d"
      },
      "execution_count": 16,
      "outputs": [
        {
          "output_type": "stream",
          "name": "stdout",
          "text": [
            "\n",
            "Cleaning text data...\n"
          ]
        }
      ]
    },
    {
      "cell_type": "markdown",
      "source": [
        "# **FEATURES & LABELS**"
      ],
      "metadata": {
        "id": "M7ZkNaYLw7K1"
      }
    },
    {
      "cell_type": "code",
      "source": [
        "X = df['clean_review']\n",
        "y = df['sentiment'].map({'positive': 1, 'negative': 0})\n",
        "\n",
        "print(f\"\\nFinal dataset shape: {X.shape}\")\n",
        "print(f\"Label distribution: {y.value_counts().to_dict()}\")\n",
        "\n",
        "# Stratified split\n",
        "X_train, X_test, y_train, y_test = train_test_split(\n",
        "    X, y, test_size=0.2, random_state=42, stratify=y\n",
        ")\n",
        "\n",
        "print(f\"\\nTrain set size: {len(X_train)}\")\n",
        "print(f\"Test set size: {len(X_test)}\")\n"
      ],
      "metadata": {
        "colab": {
          "base_uri": "https://localhost:8080/"
        },
        "id": "DdFuduOtuhjP",
        "outputId": "dc86b225-0e3c-4ebf-819b-24db9555c45f"
      },
      "execution_count": 17,
      "outputs": [
        {
          "output_type": "stream",
          "name": "stdout",
          "text": [
            "\n",
            "Final dataset shape: (50000,)\n",
            "Label distribution: {1: 25000, 0: 25000}\n",
            "\n",
            "Train set size: 40000\n",
            "Test set size: 10000\n"
          ]
        }
      ]
    },
    {
      "cell_type": "markdown",
      "source": [
        "# **TF-IDF VECTORIZATION**"
      ],
      "metadata": {
        "id": "1KSQerMoxAM-"
      }
    },
    {
      "cell_type": "code",
      "source": [
        "print(\"\\nCreating TF-IDF features...\")\n",
        "tfidf = TfidfVectorizer(\n",
        "    max_features=10000,\n",
        "    ngram_range=(1, 2),\n",
        "    min_df=2,\n",
        "    max_df=0.95,\n",
        "    sublinear_tf=True\n",
        ")\n",
        "\n",
        "X_train_tfidf = tfidf.fit_transform(X_train)\n",
        "X_test_tfidf = tfidf.transform(X_test)\n",
        "\n",
        "print(f\"TF-IDF feature matrix shape: {X_train_tfidf.shape}\")\n"
      ],
      "metadata": {
        "colab": {
          "base_uri": "https://localhost:8080/"
        },
        "id": "zHpae7v7uhl9",
        "outputId": "297a749c-b773-413f-a6e5-ee32b87e883c"
      },
      "execution_count": 18,
      "outputs": [
        {
          "output_type": "stream",
          "name": "stdout",
          "text": [
            "\n",
            "Creating TF-IDF features...\n",
            "TF-IDF feature matrix shape: (40000, 10000)\n"
          ]
        }
      ]
    },
    {
      "cell_type": "markdown",
      "source": [
        "# **MODEL TRAINING**"
      ],
      "metadata": {
        "id": "dI_lH8ekxGU9"
      }
    },
    {
      "cell_type": "code",
      "source": [
        "models = {\n",
        "    'Logistic Regression': LogisticRegression(max_iter=1000, C=1.0, random_state=42),\n",
        "    'Naive Bayes': MultinomialNB(alpha=1.0),\n",
        "    'SVM': LinearSVC(C=1.0, random_state=42, max_iter=2000)\n",
        "}\n",
        "\n",
        "results, predictions = {}, {}\n",
        "\n",
        "print(\"\\nTraining and evaluating models...\")\n",
        "print(\"=\"*50)\n",
        "\n",
        "for name, model in models.items():\n",
        "    print(f\"\\nTraining {name}...\")\n",
        "    model.fit(X_train_tfidf, y_train)\n",
        "    y_pred = model.predict(X_test_tfidf)\n",
        "    predictions[name] = y_pred\n",
        "\n",
        "    accuracy = accuracy_score(y_test, y_pred)\n",
        "    f1 = f1_score(y_test, y_pred)\n",
        "\n",
        "    results[name] = {'Accuracy': accuracy, 'F1-Score': f1}\n",
        "\n",
        "    print(f\"{name} Results:\")\n",
        "    print(f\"Accuracy: {accuracy:.4f}\")\n",
        "    print(f\"F1-Score: {f1:.4f}\")\n",
        "    print(\"\\nClassification Report:\")\n",
        "    print(classification_report(y_test, y_pred, target_names=['Negative', 'Positive']))\n",
        "    print(\"-\" * 50)\n",
        "\n"
      ],
      "metadata": {
        "colab": {
          "base_uri": "https://localhost:8080/"
        },
        "id": "DmieoJufuhom",
        "outputId": "31e0eff6-6b0d-4248-992f-2d1ad5493d1f"
      },
      "execution_count": 19,
      "outputs": [
        {
          "output_type": "stream",
          "name": "stdout",
          "text": [
            "\n",
            "Training and evaluating models...\n",
            "==================================================\n",
            "\n",
            "Training Logistic Regression...\n",
            "Logistic Regression Results:\n",
            "Accuracy: 0.9005\n",
            "F1-Score: 0.9014\n",
            "\n",
            "Classification Report:\n",
            "              precision    recall  f1-score   support\n",
            "\n",
            "    Negative       0.91      0.89      0.90      5000\n",
            "    Positive       0.89      0.91      0.90      5000\n",
            "\n",
            "    accuracy                           0.90     10000\n",
            "   macro avg       0.90      0.90      0.90     10000\n",
            "weighted avg       0.90      0.90      0.90     10000\n",
            "\n",
            "--------------------------------------------------\n",
            "\n",
            "Training Naive Bayes...\n",
            "Naive Bayes Results:\n",
            "Accuracy: 0.8707\n",
            "F1-Score: 0.8725\n",
            "\n",
            "Classification Report:\n",
            "              precision    recall  f1-score   support\n",
            "\n",
            "    Negative       0.88      0.86      0.87      5000\n",
            "    Positive       0.86      0.88      0.87      5000\n",
            "\n",
            "    accuracy                           0.87     10000\n",
            "   macro avg       0.87      0.87      0.87     10000\n",
            "weighted avg       0.87      0.87      0.87     10000\n",
            "\n",
            "--------------------------------------------------\n",
            "\n",
            "Training SVM...\n",
            "SVM Results:\n",
            "Accuracy: 0.8916\n",
            "F1-Score: 0.8919\n",
            "\n",
            "Classification Report:\n",
            "              precision    recall  f1-score   support\n",
            "\n",
            "    Negative       0.89      0.89      0.89      5000\n",
            "    Positive       0.89      0.89      0.89      5000\n",
            "\n",
            "    accuracy                           0.89     10000\n",
            "   macro avg       0.89      0.89      0.89     10000\n",
            "weighted avg       0.89      0.89      0.89     10000\n",
            "\n",
            "--------------------------------------------------\n"
          ]
        }
      ]
    },
    {
      "cell_type": "markdown",
      "source": [
        "# **VISUALIZATIONS**"
      ],
      "metadata": {
        "id": "uO4JWgBAxMbz"
      }
    },
    {
      "cell_type": "code",
      "source": [
        "plt.figure(figsize=(15, 5))\n",
        "\n",
        "# (1) Model Performance\n",
        "plt.subplot(1, 3, 1)\n",
        "model_names = list(results.keys())\n",
        "accuracies = [results[m]['Accuracy'] for m in model_names]\n",
        "f1_scores = [results[m]['F1-Score'] for m in model_names]\n",
        "\n",
        "x = np.arange(len(model_names))\n",
        "width = 0.35\n",
        "plt.bar(x - width/2, accuracies, width, label='Accuracy', alpha=0.8)\n",
        "plt.bar(x + width/2, f1_scores, width, label='F1-Score', alpha=0.8)\n",
        "plt.xlabel('Models')\n",
        "plt.ylabel('Score')\n",
        "plt.title('Model Performance Comparison')\n",
        "plt.xticks(x, model_names, rotation=45)\n",
        "plt.legend()\n",
        "plt.ylim(0, 1)\n",
        "for i, (acc, f1) in enumerate(zip(accuracies, f1_scores)):\n",
        "    plt.text(i - width/2, acc + 0.01, f'{acc:.3f}', ha='center')\n",
        "    plt.text(i + width/2, f1 + 0.01, f'{f1:.3f}', ha='center')\n",
        "\n",
        "# (2) Confusion Matrix of Best Model\n",
        "best_model = max(results.keys(), key=lambda x: results[x]['F1-Score'])\n",
        "plt.subplot(1, 3, 2)\n",
        "cm = confusion_matrix(y_test, predictions[best_model])\n",
        "sns.heatmap(cm, annot=True, fmt='d', cmap='Blues',\n",
        "            xticklabels=['Negative', 'Positive'],\n",
        "            yticklabels=['Negative', 'Positive'])\n",
        "plt.title(f'Confusion Matrix - {best_model}')\n",
        "plt.ylabel('True Label')\n",
        "plt.xlabel('Predicted Label')\n",
        "\n",
        "# (3) Top Features (Logistic Regression)\n",
        "plt.subplot(1, 3, 3)\n",
        "if 'Logistic Regression' in models:\n",
        "    feature_names = tfidf.get_feature_names_out()\n",
        "    coefficients = models['Logistic Regression'].coef_[0]\n",
        "    top_pos, top_neg = np.argsort(coefficients)[-10:], np.argsort(coefficients)[:10]\n",
        "    top_features = np.concatenate([top_neg, top_pos])\n",
        "    feature_labels = [feature_names[i] for i in top_features]\n",
        "    feature_coefs = coefficients[top_features]\n",
        "    colors = ['red' if coef < 0 else 'green' for coef in feature_coefs]\n",
        "\n",
        "    plt.barh(range(len(feature_coefs)), feature_coefs, color=colors, alpha=0.7)\n",
        "    plt.yticks(range(len(feature_labels)), feature_labels)\n",
        "    plt.xlabel('Coefficient Value')\n",
        "    plt.title('Top Features (Logistic Regression)')\n",
        "    plt.axvline(x=0, color='black', linestyle='-', alpha=0.3)\n",
        "\n",
        "plt.tight_layout()\n",
        "plt.show()\n"
      ],
      "metadata": {
        "colab": {
          "base_uri": "https://localhost:8080/",
          "height": 275
        },
        "id": "W-e-2qdduhrX",
        "outputId": "1132c471-3eb1-4c99-9466-92ee13f11e47"
      },
      "execution_count": 20,
      "outputs": [
        {
          "output_type": "display_data",
          "data": {
            "text/plain": [
              "<Figure size 1500x500 with 4 Axes>"
            ],
            "image/png": "[encoded data removed]"
          },
          "metadata": {}
        }
      ]
    },
    {
      "cell_type": "markdown",
      "source": [
        "# **SUMMARY**"
      ],
      "metadata": {
        "id": "x-df1mMnxTku"
      }
    },
    {
      "cell_type": "code",
      "source": [
        "print(\"\\n\" + \"=\"*60)\n",
        "print(\"FINAL RESULTS SUMMARY\")\n",
        "print(\"=\"*60)\n",
        "print(f\"Best performing model: {best_model}\")\n",
        "print(f\"Best F1-Score: {results[best_model]['F1-Score']:.4f}\")\n",
        "print(f\"Best Accuracy: {results[best_model]['Accuracy']:.4f}\")\n",
        "\n",
        "results_df = pd.DataFrame(results).T\n",
        "print(\"\\nAll Models Comparison:\")\n",
        "print(results_df.round(4))"
      ],
      "metadata": {
        "colab": {
          "base_uri": "https://localhost:8080/"
        },
        "id": "ZqT8CCJ2uhuw",
        "outputId": "699af4fd-d851-473a-edfe-37ddc13de5ea"
      },
      "execution_count": 21,
      "outputs": [
        {
          "output_type": "stream",
          "name": "stdout",
          "text": [
            "\n",
            "============================================================\n",
            "FINAL RESULTS SUMMARY\n",
            "============================================================\n",
            "Best performing model: Logistic Regression\n",
            "Best F1-Score: 0.9014\n",
            "Best Accuracy: 0.9005\n",
            "\n",
            "All Models Comparison:\n",
            "                     Accuracy  F1-Score\n",
            "Logistic Regression    0.9005    0.9014\n",
            "Naive Bayes            0.8707    0.8725\n",
            "SVM                    0.8916    0.8919\n"
          ]
        }
      ]
    },
    {
      "cell_type": "markdown",
      "source": [
        "# **PREDICTION FUNCTIONS**"
      ],
      "metadata": {
        "id": "cdNV0-RQxY8K"
      }
    },
    {
      "cell_type": "code",
      "source": [
        "def predict_sentiment(review_text, model_name=None):\n",
        "    \"\"\" Predict sentiment for a custom review \"\"\"\n",
        "    if not review_text.strip():\n",
        "        return {\"error\": \"Please enter a valid review\"}\n",
        "\n",
        "    clean_review = clean_text(review_text)\n",
        "    if not clean_review.strip():\n",
        "        return {\"error\": \"Review contains no meaningful text after cleaning\"}\n",
        "\n",
        "    review_tfidf = tfidf.transform([clean_review])\n",
        "    predictions = {}\n",
        "\n",
        "    models_to_use = {model_name: models[model_name]} if model_name and model_name in models else models\n",
        "    for name, model in models_to_use.items():\n",
        "        pred = model.predict(review_tfidf)[0]\n",
        "        sentiment = \"Positive\" if pred == 1 else \"Negative\"\n",
        "\n",
        "        if hasattr(model, 'predict_proba'):\n",
        "            prob = model.predict_proba(review_tfidf)[0]\n",
        "            confidence = max(prob)\n",
        "            predictions[name] = {\n",
        "                'sentiment': sentiment,\n",
        "                'confidence': round(confidence, 3),\n",
        "                'probabilities': {'negative': round(prob[0], 3), 'positive': round(prob[1], 3)}\n",
        "            }\n",
        "        else:\n",
        "            decision_score = model.decision_function(review_tfidf)[0]\n",
        "            prob_positive = 1 / (1 + np.exp(-decision_score))\n",
        "            prob_negative = 1 - prob_positive\n",
        "            predictions[name] = {\n",
        "                'sentiment': sentiment,\n",
        "                'confidence': round(max(prob_positive, prob_negative), 3),\n",
        "                'probabilities': {'negative': round(prob_negative, 3), 'positive': round(prob_positive, 3)}\n",
        "            }\n",
        "\n",
        "    return {'original_text': review_text, 'cleaned_text': clean_review, 'predictions': predictions}\n",
        "\n",
        "def interactive_interface():\n",
        "    \"\"\" Interactive CLI for analyzing custom reviews \"\"\"\n",
        "    print(\"\\n\" + \"=\"*60)\n",
        "    print(\"INTERACTIVE SENTIMENT ANALYSIS\")\n",
        "    print(\"=\"*60)\n",
        "    print(\"Enter movie reviews to analyze their sentiment!\")\n",
        "    print(\"Commands: quit | exit | q | help | models\")\n",
        "    print(\"-\" * 60)\n",
        "\n",
        "    while True:\n",
        "        try:\n",
        "            user_input = input(\"\\n>>> Enter your movie review: \").strip()\n",
        "\n",
        "            if user_input.lower() in ['quit', 'exit', 'q']:\n",
        "                print(\"Thanks for using the sentiment analyzer!\")\n",
        "                break\n",
        "            elif user_input.lower() == 'help':\n",
        "                print(\"\\nCommands: quit/exit/q, models, help\")\n",
        "                continue\n",
        "            elif user_input.lower() == 'models':\n",
        "                print(\"\\nAvailable models:\")\n",
        "                for i, model_name in enumerate(models.keys(), 1):\n",
        "                    acc, f1 = results[model_name]['Accuracy'], results[model_name]['F1-Score']\n",
        "                    print(f\"  {i}. {model_name} (Acc: {acc:.3f}, F1: {f1:.3f})\")\n",
        "                continue\n",
        "            elif not user_input:\n",
        "                print(\"Please enter a review or type 'help'.\")\n",
        "                continue\n",
        "\n",
        "            result = predict_sentiment(user_input)\n",
        "            if 'error' in result:\n",
        "                print(f\"Error: {result['error']}\")\n",
        "                continue\n",
        "\n",
        "            print(f\"\\nOriginal: {result['original_text']}\")\n",
        "            print(f\"Cleaned: {result['cleaned_text'][:100]}{'...' if len(result['cleaned_text']) > 100 else ''}\")\n",
        "            print(\"\\nPredictions:\")\n",
        "            print(\"-\" * 40)\n",
        "\n",
        "            for model_name, pred_info in result['predictions'].items():\n",
        "                sentiment, confidence = pred_info['sentiment'], pred_info['confidence']\n",
        "                pos_prob, neg_prob = pred_info['probabilities']['positive'], pred_info['probabilities']['negative']\n",
        "                emoji = \"😊\" if sentiment == \"Positive\" else \"😞\"\n",
        "\n",
        "                print(f\"{model_name}:\\n  {emoji} {sentiment} (confidence: {confidence:.1%})\")\n",
        "                print(f\"  📊 Positive: {pos_prob:.1%} | Negative: {neg_prob:.1%}\")\n",
        "\n",
        "            positive_votes = sum(1 for pred in result['predictions'].values() if pred['sentiment'] == 'Positive')\n",
        "            total_models = len(result['predictions'])\n",
        "            print(f\"\\nConsensus: {positive_votes}/{total_models} models predict Positive\")\n",
        "            if positive_votes == total_models:\n",
        "                print(\"🎉 All models agree: POSITIVE review!\")\n",
        "            elif positive_votes == 0:\n",
        "                print(\"😔 All models agree: NEGATIVE review!\")\n",
        "            else:\n",
        "                print(\"🤔 Mixed sentiment detected\")\n",
        "\n",
        "        except KeyboardInterrupt:\n",
        "            print(\"\\n\\nExiting...\")\n",
        "            break\n",
        "        except Exception as e:\n",
        "            print(f\"An error occurred: {e}\")\n",
        "            continue\n",
        "\n",
        "def batch_analyze_reviews(review_list):\n",
        "    \"\"\" Analyze multiple reviews at once \"\"\"\n",
        "    return [predict_sentiment(review) for review in review_list]\n",
        "\n",
        "def save_predictions_to_file(predictions, filename=\"sentiment_predictions.txt\"):\n",
        "    \"\"\" Save predictions to a file \"\"\"\n",
        "    with open(filename, 'w', encoding='utf-8') as f:\n",
        "        f.write(\"Sentiment Analysis Results\\n\")\n",
        "        f.write(\"=\" * 50 + \"\\n\\n\")\n",
        "        for i, result in enumerate(predictions, 1):\n",
        "            if 'error' in result:\n",
        "                f.write(f\"Review {i}: Error - {result['error']}\\n\\n\")\n",
        "                continue\n",
        "            f.write(f\"Review {i}:\\nOriginal: {result['original_text']}\\nCleaned: {result['cleaned_text']}\\n\\n\")\n",
        "            f.write(\"Predictions:\\n\")\n",
        "            for model_name, pred_info in result['predictions'].items():\n",
        "                f.write(f\"  {model_name}: {pred_info['sentiment']} ({pred_info['confidence']:.1%})\\n\")\n",
        "            f.write(\"-\" * 30 + \"\\n\\n\")\n",
        "    print(f\"Results saved to {filename}\")\n",
        "\n",
        "# For testing, let's add some sample predictions\n",
        "print(\"\\n\" + \"=\"*60)\n",
        "print(\"SAMPLE PREDICTIONS\")\n",
        "print(\"=\"*60)\n",
        "\n",
        "sample_reviews = [\n",
        "    \"This movie was absolutely fantastic! Great acting and storyline.\",\n",
        "    \"Terrible movie, waste of time. Poor acting and boring plot.\",\n",
        "    \"It was okay, nothing special but not bad either.\"\n",
        "]\n",
        "\n",
        "for i, review in enumerate(sample_reviews, 1):\n",
        "    print(f\"\\nSample {i}: {review}\")\n",
        "    result = predict_sentiment(review)\n",
        "    if 'error' not in result:\n",
        "        for model_name, pred_info in result['predictions'].items():\n",
        "            print(f\"  {model_name}: {pred_info['sentiment']} ({pred_info['confidence']:.1%})\")\n",
        "    print(\"-\" * 40)"
      ],
      "metadata": {
        "colab": {
          "base_uri": "https://localhost:8080/"
        },
        "id": "KSCkXE2cuhyT",
        "outputId": "f8b81682-8197-4530-a16a-7ea539cbc16b"
      },
      "execution_count": 22,
      "outputs": [
        {
          "output_type": "stream",
          "name": "stdout",
          "text": [
            "\n",
            "============================================================\n",
            "SAMPLE PREDICTIONS\n",
            "============================================================\n",
            "\n",
            "Sample 1: This movie was absolutely fantastic! Great acting and storyline.\n",
            "  Logistic Regression: Positive (90.7%)\n",
            "  Naive Bayes: Positive (67.3%)\n",
            "  SVM: Positive (73.7%)\n",
            "----------------------------------------\n",
            "\n",
            "Sample 2: Terrible movie, waste of time. Poor acting and boring plot.\n",
            "  Logistic Regression: Negative (100.0%)\n",
            "  Naive Bayes: Negative (99.8%)\n",
            "  SVM: Negative (99.2%)\n",
            "----------------------------------------\n",
            "\n",
            "Sample 3: It was okay, nothing special but not bad either.\n",
            "  Logistic Regression: Negative (99.6%)\n",
            "  Naive Bayes: Negative (85.6%)\n",
            "  SVM: Negative (95.6%)\n",
            "----------------------------------------\n"
          ]
        }
      ]
    }
  ],
  "metadata": {
    "colab": {
      "provenance": []
    },
    "kernelspec": {
      "display_name": "Python 3",
      "name": "python3"
    },
    "language_info": {
      "name": "python"
    }
  },
  "nbformat": 4,
  "nbformat_minor": 0
}